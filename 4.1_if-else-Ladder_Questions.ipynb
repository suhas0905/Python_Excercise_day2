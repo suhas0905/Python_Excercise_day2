{
 "cells": [
  {
   "cell_type": "raw",
   "metadata": {},
   "source": [
    "Read Five marks tamil,english,maths,science and social and if all marks are greater than 35 , print pass else print fail"
   ]
  },
  {
   "cell_type": "code",
   "execution_count": 4,
   "metadata": {},
   "outputs": [
    {
     "name": "stdin",
     "output_type": "stream",
     "text": [
      "enter the marks of tamil subject: 44\n",
      "enter the marks of english subject: 55\n",
      "enter the marks of maths subject: 66\n",
      "enter the marks of science subject: 77\n",
      "enter the marks of social subject: 88\n"
     ]
    },
    {
     "name": "stdout",
     "output_type": "stream",
     "text": [
      "Pass\n"
     ]
    }
   ],
   "source": [
    "tamil=int(input(\"enter the marks of tamil subject:\"))\n",
    "english=int(input(\"enter the marks of english subject:\"))\n",
    "maths=int(input(\"enter the marks of maths subject:\"))\n",
    "science=int(input(\"enter the marks of science subject:\"))\n",
    "social=int(input(\"enter the marks of social subject:\"))\n",
    "if tamil>35 and english>35 and maths>35 and science>35 and social>35 :\n",
    "    print(\"Pass\")\n",
    "else:\n",
    "    print(\"Fail\")\n",
    "\n"
   ]
  },
  {
   "cell_type": "code",
   "execution_count": null,
   "metadata": {},
   "outputs": [],
   "source": []
  }
 ],
 "metadata": {
  "kernelspec": {
   "display_name": "Python 3 (ipykernel)",
   "language": "python",
   "name": "python3"
  },
  "language_info": {
   "codemirror_mode": {
    "name": "ipython",
    "version": 3
   },
   "file_extension": ".py",
   "mimetype": "text/x-python",
   "name": "python",
   "nbconvert_exporter": "python",
   "pygments_lexer": "ipython3",
   "version": "3.12.7"
  }
 },
 "nbformat": 4,
 "nbformat_minor": 4
}
